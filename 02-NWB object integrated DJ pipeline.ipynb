{
 "cells": [
  {
   "cell_type": "code",
   "execution_count": 1,
   "metadata": {},
   "outputs": [],
   "source": [
    "import datajoint as dj\n",
    "import numpy as np\n",
    "import matplotlib.pyplot as plt"
   ]
  },
  {
   "cell_type": "code",
   "execution_count": 2,
   "metadata": {},
   "outputs": [
    {
     "name": "stdout",
     "output_type": "stream",
     "text": [
      "Connecting root@127.0.0.1:3306\n"
     ]
    },
    {
     "data": {
      "text/plain": [
       "DataJoint connection (connected) root@127.0.0.1:3306"
      ]
     },
     "execution_count": 2,
     "metadata": {},
     "output_type": "execute_result"
    }
   ],
   "source": [
    "dj.conn()"
   ]
  },
  {
   "cell_type": "code",
   "execution_count": 3,
   "metadata": {},
   "outputs": [],
   "source": [
    "from pipeline import experiment, subject, intracellular, nwb_adapter, utilities"
   ]
  },
  {
   "cell_type": "code",
   "execution_count": 4,
   "metadata": {},
   "outputs": [
    {
     "data": {
      "image/svg+xml": [
       "<svg height=\"256pt\" viewBox=\"0.00 0.00 462.50 256.00\" width=\"463pt\" xmlns=\"http://www.w3.org/2000/svg\" xmlns:xlink=\"http://www.w3.org/1999/xlink\">\n",
       "<g class=\"graph\" id=\"graph0\" transform=\"scale(1 1) rotate(0) translate(4 252)\">\n",
       "<title>%3</title>\n",
       "<polygon fill=\"white\" points=\"-4,4 -4,-252 458.5,-252 458.5,4 -4,4\" stroke=\"none\"/>\n",
       "<!-- subject.Subject -->\n",
       "<g class=\"node\" id=\"node1\"><title>subject.Subject</title>\n",
       "<g id=\"a_node1\"><a xlink:title=\"subject_id           \r",
       "------------------------------\r",
       "→ subject.Species\r",
       "→ subject.AnimalSource\r",
       "sex=&quot;U&quot;              \r",
       "date_of_birth=null   \r",
       "subject_description=null \r",
       "\">\n",
       "<polygon fill=\"#00ff00\" fill-opacity=\"0.188235\" points=\"107.5,-248 12.5,-248 12.5,-213 107.5,-213 107.5,-248\" stroke=\"#00ff00\" stroke-opacity=\"0.188235\"/>\n",
       "<text fill=\"darkgreen\" font-family=\"arial\" font-size=\"12.00\" text-anchor=\"start\" text-decoration=\"underline\" x=\"20.5\" y=\"-228.4\">subject.Subject</text>\n",
       "</a>\n",
       "</g>\n",
       "</g>\n",
       "<!-- experiment.Session -->\n",
       "<g class=\"node\" id=\"node4\"><title>experiment.Session</title>\n",
       "<g id=\"a_node4\"><a xlink:title=\"→ subject.Subject\r",
       "session_time         \r",
       "------------------------------\r",
       "session_note=&quot;&quot;      \r",
       "nwb_file             \r",
       "INDEX (nwb_file)\r",
       "\">\n",
       "<polygon fill=\"#00ff00\" fill-opacity=\"0.188235\" points=\"120,-177 0,-177 0,-142 120,-142 120,-177\" stroke=\"#00ff00\" stroke-opacity=\"0.188235\"/>\n",
       "<text fill=\"darkgreen\" font-family=\"arial\" font-size=\"12.00\" text-anchor=\"start\" text-decoration=\"underline\" x=\"8\" y=\"-157.4\">experiment.Session</text>\n",
       "</a>\n",
       "</g>\n",
       "</g>\n",
       "<!-- subject.Subject&#45;&gt;experiment.Session -->\n",
       "<g class=\"edge\" id=\"edge1\"><title>subject.Subject-&gt;experiment.Session</title>\n",
       "<path d=\"M60,-212.797C60,-201.949 60,-187.867 60,-177.049\" fill=\"none\" stroke=\"#000000\" stroke-opacity=\"0.250980\" stroke-width=\"0.75\"/>\n",
       "</g>\n",
       "<!-- intracellular.WholeCellDevice -->\n",
       "<g class=\"node\" id=\"node2\"><title>intracellular.WholeCellDevice</title>\n",
       "<g id=\"a_node2\"><a xlink:title=\"device_name          \r",
       "------------------------------\r",
       "nwb_device           \r",
       "\">\n",
       "<polygon fill=\"#000000\" fill-opacity=\"0.125490\" points=\"285,-248 143,-248 143,-213 285,-213 285,-248\" stroke=\"none\"/>\n",
       "<text font-family=\"arial\" font-size=\"10.00\" text-anchor=\"start\" text-decoration=\"underline\" x=\"151\" y=\"-229\">intracellular.WholeCellDevice</text>\n",
       "</a>\n",
       "</g>\n",
       "</g>\n",
       "<!-- intracellular.IntracellularElectrode -->\n",
       "<g class=\"node\" id=\"node6\"><title>intracellular.IntracellularElectrode</title>\n",
       "<g id=\"a_node6\"><a xlink:title=\"→ intracellular.BrainLocation\r",
       "------------------------------\r",
       "→ intracellular.WholeCellDevice\r",
       "ic_electrode         \r",
       "\">\n",
       "<polygon fill=\"#00ff00\" fill-opacity=\"0.188235\" points=\"324,-177 138,-177 138,-142 324,-142 324,-177\" stroke=\"#00ff00\" stroke-opacity=\"0.188235\"/>\n",
       "<text fill=\"darkgreen\" font-family=\"arial\" font-size=\"12.00\" text-anchor=\"middle\" x=\"231\" y=\"-156.4\">intracellular.IntracellularElectrode</text>\n",
       "</a>\n",
       "</g>\n",
       "</g>\n",
       "<!-- intracellular.WholeCellDevice&#45;&gt;intracellular.IntracellularElectrode -->\n",
       "<g class=\"edge\" id=\"edge2\"><title>intracellular.WholeCellDevice-&gt;intracellular.IntracellularElectrode</title>\n",
       "<path d=\"M218.115,-212.797C220.788,-201.949 224.257,-187.867 226.923,-177.049\" fill=\"none\" stroke=\"#000000\" stroke-dasharray=\"5,2\" stroke-opacity=\"0.250980\" stroke-width=\"0.75\"/>\n",
       "</g>\n",
       "<!-- intracellular.BrainLocation -->\n",
       "<g class=\"node\" id=\"node3\"><title>intracellular.BrainLocation</title>\n",
       "<g id=\"a_node3\"><a xlink:title=\"brain_region         \r",
       "hemisphere           \r",
       "------------------------------\r",
       "coordinate_ref       \r",
       "coordinate_ap        \r",
       "coordinate_ml        \r",
       "coordinate_dv        \r",
       "\">\n",
       "<polygon fill=\"#00ff00\" fill-opacity=\"0.188235\" points=\"454.5,-248 303.5,-248 303.5,-213 454.5,-213 454.5,-248\" stroke=\"#00ff00\" stroke-opacity=\"0.188235\"/>\n",
       "<text fill=\"darkgreen\" font-family=\"arial\" font-size=\"12.00\" text-anchor=\"start\" text-decoration=\"underline\" x=\"311.5\" y=\"-228.4\">intracellular.BrainLocation</text>\n",
       "</a>\n",
       "</g>\n",
       "</g>\n",
       "<!-- intracellular.BrainLocation&#45;&gt;intracellular.IntracellularElectrode -->\n",
       "<g class=\"edge\" id=\"edge3\"><title>intracellular.BrainLocation-&gt;intracellular.IntracellularElectrode</title>\n",
       "<path d=\"M343.55,-212.973C320.204,-202.088 289.756,-187.893 266.417,-177.012\" fill=\"none\" stroke=\"#000000\" stroke-opacity=\"0.250980\" stroke-width=\"2\"/>\n",
       "</g>\n",
       "<!-- intracellular.Cell -->\n",
       "<g class=\"node\" id=\"node7\"><title>intracellular.Cell</title>\n",
       "<g id=\"a_node7\"><a xlink:title=\"→ experiment.Session\r",
       "cell_id              \r",
       "------------------------------\r",
       "cell_type            \r",
       "→ intracellular.IntracellularElectrode\r",
       "\">\n",
       "<polygon fill=\"#00ff00\" fill-opacity=\"0.188235\" points=\"194,-106 96,-106 96,-71 194,-71 194,-106\" stroke=\"#00ff00\" stroke-opacity=\"0.188235\"/>\n",
       "<text fill=\"darkgreen\" font-family=\"arial\" font-size=\"12.00\" text-anchor=\"start\" text-decoration=\"underline\" x=\"104\" y=\"-86.4\">intracellular.Cell</text>\n",
       "</a>\n",
       "</g>\n",
       "</g>\n",
       "<!-- experiment.Session&#45;&gt;intracellular.Cell -->\n",
       "<g class=\"edge\" id=\"edge4\"><title>experiment.Session-&gt;intracellular.Cell</title>\n",
       "<path d=\"M80.5761,-141.797C93.9402,-130.949 111.287,-116.867 124.613,-106.049\" fill=\"none\" stroke=\"#000000\" stroke-opacity=\"0.250980\" stroke-width=\"0.75\"/>\n",
       "</g>\n",
       "<!-- intracellular.MembranePotential -->\n",
       "<g class=\"node\" id=\"node5\"><title>intracellular.MembranePotential</title>\n",
       "<g id=\"a_node5\"><a xlink:title=\"→ intracellular.Cell\r",
       "------------------------------\r",
       "nwb_patch_clamp      \r",
       "INDEX (nwb_patch_clamp)\r",
       "\">\n",
       "<ellipse cx=\"145\" cy=\"-17.5\" fill=\"#00007f\" fill-opacity=\"0.250980\" rx=\"112.5\" ry=\"17.5\" stroke=\"#00007f\" stroke-opacity=\"0.250980\"/>\n",
       "<text fill=\"#00007f\" font-family=\"arial\" font-size=\"12.00\" text-anchor=\"middle\" x=\"145\" y=\"-14.4\">intracellular.MembranePotential</text>\n",
       "</a>\n",
       "</g>\n",
       "</g>\n",
       "<!-- intracellular.IntracellularElectrode&#45;&gt;intracellular.Cell -->\n",
       "<g class=\"edge\" id=\"edge5\"><title>intracellular.IntracellularElectrode-&gt;intracellular.Cell</title>\n",
       "<path d=\"M210.182,-141.797C196.66,-130.949 179.11,-116.867 165.626,-106.049\" fill=\"none\" stroke=\"#000000\" stroke-dasharray=\"5,2\" stroke-opacity=\"0.250980\" stroke-width=\"0.75\"/>\n",
       "</g>\n",
       "<!-- intracellular.Cell&#45;&gt;intracellular.MembranePotential -->\n",
       "<g class=\"edge\" id=\"edge6\"><title>intracellular.Cell-&gt;intracellular.MembranePotential</title>\n",
       "<path d=\"M145,-70.797C145,-59.9485 145,-45.8669 145,-35.0492\" fill=\"none\" stroke=\"#000000\" stroke-opacity=\"0.250980\" stroke-width=\"2\"/>\n",
       "</g>\n",
       "</g>\n",
       "</svg>"
      ],
      "text/plain": [
       "<datajoint.diagram.Diagram at 0x1be403a0f98>"
      ]
     },
     "execution_count": 4,
     "metadata": {},
     "output_type": "execute_result"
    }
   ],
   "source": [
    "dj.Diagram(experiment.Session) - 1 + dj.Diagram(intracellular)"
   ]
  },
  {
   "cell_type": "markdown",
   "metadata": {},
   "source": [
    "#### Quick note\n",
    "+ `nwb_file` is stored as a `filepath` - stored as .nwb file externally\n",
    "+ `nwb_device` is stored as a `longblob` - stored inside the database as native python dictionary\n",
    "+ `ic_electrode` is stored as a `longblob` - stored inside the database as native python dictionary\n",
    "+ `nwb_patch_clamp` is stored as a `filepath` - stored as .nwb file externally"
   ]
  },
  {
   "cell_type": "markdown",
   "metadata": {},
   "source": [
    "### Show all sessions"
   ]
  },
  {
   "cell_type": "code",
   "execution_count": 6,
   "metadata": {},
   "outputs": [
    {
     "data": {
      "text/html": [
       "\n",
       "        \n",
       "        <style type=\"text/css\">\n",
       "            .Relation{\n",
       "                border-collapse:collapse;\n",
       "            }\n",
       "            .Relation th{\n",
       "                background: #A0A0A0; color: #ffffff; padding:4px; border:#f0e0e0 1px solid;\n",
       "                font-weight: normal; font-family: monospace; font-size: 100%;\n",
       "            }\n",
       "            .Relation td{\n",
       "                padding:4px; border:#f0e0e0 1px solid; font-size:100%;\n",
       "            }\n",
       "            .Relation tr:nth-child(odd){\n",
       "                background: #ffffff;\n",
       "            }\n",
       "            .Relation tr:nth-child(even){\n",
       "                background: #f3f1ff;\n",
       "            }\n",
       "            /* Tooltip container */\n",
       "            .djtooltip {\n",
       "            }\n",
       "            /* Tooltip text */\n",
       "            .djtooltip .djtooltiptext {\n",
       "                visibility: hidden;\n",
       "                width: 120px;\n",
       "                background-color: black;\n",
       "                color: #fff;\n",
       "                text-align: center;\n",
       "                padding: 5px 0;\n",
       "                border-radius: 6px;\n",
       "                /* Position the tooltip text - see examples below! */\n",
       "                position: absolute;\n",
       "                z-index: 1;\n",
       "            }\n",
       "            #primary {\n",
       "                font-weight: bold;\n",
       "                color: black;\n",
       "            }\n",
       "\n",
       "            #nonprimary {\n",
       "                font-weight: normal;\n",
       "                color: white;\n",
       "            }\n",
       "\n",
       "            /* Show the tooltip text when you mouse over the tooltip container */\n",
       "            .djtooltip:hover .djtooltiptext {\n",
       "                visibility: visible;\n",
       "            }\n",
       "        </style>\n",
       "        \n",
       "        <b></b>\n",
       "            <div style=\"max-height:1000px;max-width:1500px;overflow:auto;\">\n",
       "            <table border=\"1\" class=\"Relation\">\n",
       "                <thead> <tr style=\"text-align: right;\"> <th> <div class=\"djtooltip\">\n",
       "                                <p id=\"primary\">subject_id</p>\n",
       "                                <span class=\"djtooltiptext\">id of the subject (e.g. ANM244028)</span>\n",
       "                            </div></th><th><div class=\"djtooltip\">\n",
       "                                <p id=\"primary\">session_time</p>\n",
       "                                <span class=\"djtooltiptext\">session time</span>\n",
       "                            </div></th><th><div class=\"djtooltip\">\n",
       "                                <p id=\"nonprimary\">session_note</p>\n",
       "                                <span class=\"djtooltiptext\"></span>\n",
       "                            </div></th><th><div class=\"djtooltip\">\n",
       "                                <p id=\"nonprimary\">nwb_file</p>\n",
       "                                <span class=\"djtooltiptext\"></span>\n",
       "                            </div> </th> </tr> </thead>\n",
       "                <tbody> <tr> <td>anm300476</td>\n",
       "<td>2017-05-20 18:28:59</td>\n",
       "<td>ALM whole cell recording during M1 photoinhibition</td>\n",
       "<td>=BLOB=</td></tr><tr><td>anm300476</td>\n",
       "<td>2017-05-20 18:35:18</td>\n",
       "<td>ALM whole cell recording during M1 photoinhibition</td>\n",
       "<td>=BLOB=</td></tr><tr><td>anm300476</td>\n",
       "<td>2017-05-20 18:42:55</td>\n",
       "<td>ALM whole cell recording during M1 photoinhibition</td>\n",
       "<td>=BLOB=</td></tr><tr><td>anm300476</td>\n",
       "<td>2017-05-20 18:43:57</td>\n",
       "<td>ALM whole cell recording during M1 photoinhibition</td>\n",
       "<td>=BLOB=</td></tr><tr><td>anm300476</td>\n",
       "<td>2017-05-20 18:44:45</td>\n",
       "<td>ALM whole cell recording during M1 photoinhibition</td>\n",
       "<td>=BLOB=</td></tr><tr><td>anm300476</td>\n",
       "<td>2017-05-20 18:47:27</td>\n",
       "<td>ALM whole cell recording during M1 photoinhibition</td>\n",
       "<td>=BLOB=</td></tr><tr><td>anm322808</td>\n",
       "<td>2017-05-20 19:25:29</td>\n",
       "<td>ALM whole cell recording during thalamus photoinhibition</td>\n",
       "<td>=BLOB=</td> </tr> </tbody>\n",
       "            </table>\n",
       "            <p>...</p>\n",
       "            <p>Total: 36</p></div>\n",
       "            "
      ],
      "text/plain": [
       "*subject_id    *session_time  session_note   nwb_file  \n",
       "+------------+ +------------+ +------------+ +--------+\n",
       "anm300476      2017-05-20 18: ALM whole cell =BLOB=    \n",
       "anm300476      2017-05-20 18: ALM whole cell =BLOB=    \n",
       "anm300476      2017-05-20 18: ALM whole cell =BLOB=    \n",
       "anm300476      2017-05-20 18: ALM whole cell =BLOB=    \n",
       "anm300476      2017-05-20 18: ALM whole cell =BLOB=    \n",
       "anm300476      2017-05-20 18: ALM whole cell =BLOB=    \n",
       "anm322808      2017-05-20 19: ALM whole cell =BLOB=    \n",
       "   ...\n",
       " (Total: 36)"
      ]
     },
     "execution_count": 6,
     "metadata": {},
     "output_type": "execute_result"
    }
   ],
   "source": [
    "experiment.Session()"
   ]
  },
  {
   "cell_type": "markdown",
   "metadata": {},
   "source": [
    "### Pick one session of interest"
   ]
  },
  {
   "cell_type": "code",
   "execution_count": 7,
   "metadata": {},
   "outputs": [],
   "source": [
    "session_key = {'subject_id': 'anm324792', 'session_time': '2017-05-20 19:34:36'}"
   ]
  },
  {
   "cell_type": "markdown",
   "metadata": {},
   "source": [
    "### Fetch back the NWBFile for this session"
   ]
  },
  {
   "cell_type": "code",
   "execution_count": 8,
   "metadata": {},
   "outputs": [],
   "source": [
    "nwb = (experiment.Session & session_key).fetch1('nwb_file')"
   ]
  },
  {
   "cell_type": "code",
   "execution_count": 9,
   "metadata": {},
   "outputs": [
    {
     "data": {
      "text/plain": [
       "\n",
       "root <class 'pynwb.file.NWBFile'>\n",
       "Fields:\n",
       "  experimenter: ['Hidehiko Inagaki']\n",
       "  file_create_date: [datetime.datetime(2020, 5, 11, 13, 51, 31, 52647, tzinfo=tzoffset(None, -18000))]\n",
       "  identifier: anm324792_170520_193436\n",
       "  session_description: ALM whole cell recording during thalamus photoinhibition\n",
       "  session_start_time: 2017-05-20 19:34:36-05:00\n",
       "  subject: subject <class 'pynwb.file.Subject'>\n",
       "  timestamps_reference_time: 2017-05-20 19:34:36-05:00"
      ]
     },
     "execution_count": 9,
     "metadata": {},
     "output_type": "execute_result"
    }
   ],
   "source": [
    "nwb"
   ]
  },
  {
   "cell_type": "markdown",
   "metadata": {},
   "source": [
    "### Check the Intracellular Data for this session"
   ]
  },
  {
   "cell_type": "code",
   "execution_count": 10,
   "metadata": {},
   "outputs": [
    {
     "data": {
      "text/html": [
       "\n",
       "        \n",
       "        <style type=\"text/css\">\n",
       "            .Relation{\n",
       "                border-collapse:collapse;\n",
       "            }\n",
       "            .Relation th{\n",
       "                background: #A0A0A0; color: #ffffff; padding:4px; border:#f0e0e0 1px solid;\n",
       "                font-weight: normal; font-family: monospace; font-size: 100%;\n",
       "            }\n",
       "            .Relation td{\n",
       "                padding:4px; border:#f0e0e0 1px solid; font-size:100%;\n",
       "            }\n",
       "            .Relation tr:nth-child(odd){\n",
       "                background: #ffffff;\n",
       "            }\n",
       "            .Relation tr:nth-child(even){\n",
       "                background: #f3f1ff;\n",
       "            }\n",
       "            /* Tooltip container */\n",
       "            .djtooltip {\n",
       "            }\n",
       "            /* Tooltip text */\n",
       "            .djtooltip .djtooltiptext {\n",
       "                visibility: hidden;\n",
       "                width: 120px;\n",
       "                background-color: black;\n",
       "                color: #fff;\n",
       "                text-align: center;\n",
       "                padding: 5px 0;\n",
       "                border-radius: 6px;\n",
       "                /* Position the tooltip text - see examples below! */\n",
       "                position: absolute;\n",
       "                z-index: 1;\n",
       "            }\n",
       "            #primary {\n",
       "                font-weight: bold;\n",
       "                color: black;\n",
       "            }\n",
       "\n",
       "            #nonprimary {\n",
       "                font-weight: normal;\n",
       "                color: white;\n",
       "            }\n",
       "\n",
       "            /* Show the tooltip text when you mouse over the tooltip container */\n",
       "            .djtooltip:hover .djtooltiptext {\n",
       "                visibility: visible;\n",
       "            }\n",
       "        </style>\n",
       "        \n",
       "        \n",
       "            <div style=\"max-height:1000px;max-width:1500px;overflow:auto;\">\n",
       "            <table border=\"1\" class=\"Relation\">\n",
       "                <thead> <tr style=\"text-align: right;\"> <th> <div class=\"djtooltip\">\n",
       "                                <p id=\"primary\">brain_region</p>\n",
       "                                <span class=\"djtooltiptext\"></span>\n",
       "                            </div></th><th><div class=\"djtooltip\">\n",
       "                                <p id=\"primary\">hemisphere</p>\n",
       "                                <span class=\"djtooltiptext\"></span>\n",
       "                            </div></th><th><div class=\"djtooltip\">\n",
       "                                <p id=\"primary\">subject_id</p>\n",
       "                                <span class=\"djtooltiptext\">id of the subject (e.g. ANM244028)</span>\n",
       "                            </div></th><th><div class=\"djtooltip\">\n",
       "                                <p id=\"primary\">session_time</p>\n",
       "                                <span class=\"djtooltiptext\">session time</span>\n",
       "                            </div></th><th><div class=\"djtooltip\">\n",
       "                                <p id=\"primary\">cell_id</p>\n",
       "                                <span class=\"djtooltiptext\">a string identifying the cell in which this intracellular recording is concerning</span>\n",
       "                            </div></th><th><div class=\"djtooltip\">\n",
       "                                <p id=\"nonprimary\">device_name</p>\n",
       "                                <span class=\"djtooltiptext\"></span>\n",
       "                            </div></th><th><div class=\"djtooltip\">\n",
       "                                <p id=\"nonprimary\">ic_electrode</p>\n",
       "                                <span class=\"djtooltiptext\"></span>\n",
       "                            </div></th><th><div class=\"djtooltip\">\n",
       "                                <p id=\"nonprimary\">cell_type</p>\n",
       "                                <span class=\"djtooltiptext\"></span>\n",
       "                            </div> </th> </tr> </thead>\n",
       "                <tbody> <tr> <td>ALM</td>\n",
       "<td>left</td>\n",
       "<td>anm324792</td>\n",
       "<td>2017-05-20 19:34:36</td>\n",
       "<td>cell_64_1</td>\n",
       "<td>Multiclamp_700B</td>\n",
       "<td>=BLOB=</td>\n",
       "<td>N/A</td> </tr> </tbody>\n",
       "            </table>\n",
       "            \n",
       "            <p>Total: 1</p></div>\n",
       "            "
      ],
      "text/plain": [
       "*brain_region  *hemisphere    *subject_id    *session_time  *cell_id      device_name    ic_electro cell_type    \n",
       "+------------+ +------------+ +------------+ +------------+ +-----------+ +------------+ +--------+ +-----------+\n",
       "ALM            left           anm324792      2017-05-20 19: cell_64_1     Multiclamp_700 =BLOB=     N/A          \n",
       " (Total: 1)"
      ]
     },
     "execution_count": 10,
     "metadata": {},
     "output_type": "execute_result"
    }
   ],
   "source": [
    "intracellular.IntracellularElectrode * intracellular.Cell & session_key"
   ]
  },
  {
   "cell_type": "code",
   "execution_count": 11,
   "metadata": {},
   "outputs": [
    {
     "data": {
      "text/html": [
       "\n",
       "        \n",
       "        <style type=\"text/css\">\n",
       "            .Relation{\n",
       "                border-collapse:collapse;\n",
       "            }\n",
       "            .Relation th{\n",
       "                background: #A0A0A0; color: #ffffff; padding:4px; border:#f0e0e0 1px solid;\n",
       "                font-weight: normal; font-family: monospace; font-size: 100%;\n",
       "            }\n",
       "            .Relation td{\n",
       "                padding:4px; border:#f0e0e0 1px solid; font-size:100%;\n",
       "            }\n",
       "            .Relation tr:nth-child(odd){\n",
       "                background: #ffffff;\n",
       "            }\n",
       "            .Relation tr:nth-child(even){\n",
       "                background: #f3f1ff;\n",
       "            }\n",
       "            /* Tooltip container */\n",
       "            .djtooltip {\n",
       "            }\n",
       "            /* Tooltip text */\n",
       "            .djtooltip .djtooltiptext {\n",
       "                visibility: hidden;\n",
       "                width: 120px;\n",
       "                background-color: black;\n",
       "                color: #fff;\n",
       "                text-align: center;\n",
       "                padding: 5px 0;\n",
       "                border-radius: 6px;\n",
       "                /* Position the tooltip text - see examples below! */\n",
       "                position: absolute;\n",
       "                z-index: 1;\n",
       "            }\n",
       "            #primary {\n",
       "                font-weight: bold;\n",
       "                color: black;\n",
       "            }\n",
       "\n",
       "            #nonprimary {\n",
       "                font-weight: normal;\n",
       "                color: white;\n",
       "            }\n",
       "\n",
       "            /* Show the tooltip text when you mouse over the tooltip container */\n",
       "            .djtooltip:hover .djtooltiptext {\n",
       "                visibility: visible;\n",
       "            }\n",
       "        </style>\n",
       "        \n",
       "        <b></b>\n",
       "            <div style=\"max-height:1000px;max-width:1500px;overflow:auto;\">\n",
       "            <table border=\"1\" class=\"Relation\">\n",
       "                <thead> <tr style=\"text-align: right;\"> <th> <div class=\"djtooltip\">\n",
       "                                <p id=\"primary\">subject_id</p>\n",
       "                                <span class=\"djtooltiptext\">id of the subject (e.g. ANM244028)</span>\n",
       "                            </div></th><th><div class=\"djtooltip\">\n",
       "                                <p id=\"primary\">session_time</p>\n",
       "                                <span class=\"djtooltiptext\">session time</span>\n",
       "                            </div></th><th><div class=\"djtooltip\">\n",
       "                                <p id=\"primary\">cell_id</p>\n",
       "                                <span class=\"djtooltiptext\">a string identifying the cell in which this intracellular recording is concerning</span>\n",
       "                            </div></th><th><div class=\"djtooltip\">\n",
       "                                <p id=\"nonprimary\">nwb_patch_clamp</p>\n",
       "                                <span class=\"djtooltiptext\"></span>\n",
       "                            </div> </th> </tr> </thead>\n",
       "                <tbody> <tr> <td>anm324792</td>\n",
       "<td>2017-05-20 19:34:36</td>\n",
       "<td>cell_64_1</td>\n",
       "<td>=BLOB=</td> </tr> </tbody>\n",
       "            </table>\n",
       "            \n",
       "            <p>Total: 1</p></div>\n",
       "            "
      ],
      "text/plain": [
       "*subject_id    *session_time  *cell_id      nwb_patch_\n",
       "+------------+ +------------+ +-----------+ +--------+\n",
       "anm324792      2017-05-20 19: cell_64_1     =BLOB=    \n",
       " (Total: 1)"
      ]
     },
     "execution_count": 11,
     "metadata": {},
     "output_type": "execute_result"
    }
   ],
   "source": [
    "intracellular.MembranePotential & session_key"
   ]
  },
  {
   "cell_type": "markdown",
   "metadata": {},
   "source": [
    "### Fetch back electrode - a `pynwb.icephys.IntracellularElectrode` object"
   ]
  },
  {
   "cell_type": "code",
   "execution_count": 12,
   "metadata": {},
   "outputs": [],
   "source": [
    "electrode = (intracellular.IntracellularElectrode * intracellular.Cell & session_key).fetch1('ic_electrode')"
   ]
  },
  {
   "cell_type": "code",
   "execution_count": 13,
   "metadata": {},
   "outputs": [
    {
     "data": {
      "text/plain": [
       "\n",
       "leftALM <class 'pynwb.icephys.IntracellularElectrode'>\n",
       "Fields:\n",
       "  description: N/A\n",
       "  device: Multiclamp_700B <class 'pynwb.device.Device'>\n",
       "  filtering: low-pass: 10kHz\n",
       "  location: brain_region: ALM; hemisphere: left; coordinate_ref: bregma; coordinate_ap: 2.50; coordinate_ml: 1.50; coordinate_dv: 0.49"
      ]
     },
     "execution_count": 13,
     "metadata": {},
     "output_type": "execute_result"
    }
   ],
   "source": [
    "electrode"
   ]
  },
  {
   "cell_type": "markdown",
   "metadata": {},
   "source": [
    "### Fetch back electrode - a `pynwb.icephys.PatchClampSeries` object"
   ]
  },
  {
   "cell_type": "code",
   "execution_count": 14,
   "metadata": {},
   "outputs": [],
   "source": [
    "membrane_potential = (intracellular.MembranePotential & session_key).fetch1('nwb_patch_clamp')"
   ]
  },
  {
   "cell_type": "code",
   "execution_count": 15,
   "metadata": {},
   "outputs": [
    {
     "data": {
      "text/plain": [
       "\n",
       "cell_64_1_membrane_potential <class 'pynwb.icephys.PatchClampSeries'>\n",
       "Fields:\n",
       "  comments: no comments\n",
       "  conversion: 0.001\n",
       "  data: <HDF5 dataset \"data\": shape (12071800,), type \"<f4\">\n",
       "  description: no description\n",
       "  electrode: leftALM <class 'pynwb.icephys.IntracellularElectrode'>\n",
       "  gain: 1.0\n",
       "  rate: 20000.0\n",
       "  resolution: -1.0\n",
       "  starting_time: 5e-05\n",
       "  starting_time_unit: seconds\n",
       "  stimulus_description: NA\n",
       "  unit: mV"
      ]
     },
     "execution_count": 15,
     "metadata": {},
     "output_type": "execute_result"
    }
   ],
   "source": [
    "membrane_potential"
   ]
  },
  {
   "cell_type": "code",
   "execution_count": 16,
   "metadata": {},
   "outputs": [
    {
     "data": {
      "text/plain": [
       "[<matplotlib.lines.Line2D at 0x286b72706a0>]"
      ]
     },
     "execution_count": 16,
     "metadata": {},
     "output_type": "execute_result"
    },
    {
     "data": {
      "image/png": "[encoded data removed]",
      "text/plain": [
       "<Figure size 432x288 with 1 Axes>"
      ]
     },
     "metadata": {
      "needs_background": "light"
     },
     "output_type": "display_data"
    }
   ],
   "source": [
    "plt.plot(membrane_potential.data)"
   ]
  }
 ],
 "metadata": {
  "kernelspec": {
   "display_name": "Python 3",
   "language": "python",
   "name": "python3"
  },
  "language_info": {
   "codemirror_mode": {
    "name": "ipython",
    "version": 3
   },
   "file_extension": ".py",
   "mimetype": "text/x-python",
   "name": "python",
   "nbconvert_exporter": "python",
   "pygments_lexer": "ipython3",
   "version": "3.7.0"
  }
 },
 "nbformat": 4,
 "nbformat_minor": 2
}
