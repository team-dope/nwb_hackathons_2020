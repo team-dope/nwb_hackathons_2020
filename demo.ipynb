{
 "cells": [
  {
   "cell_type": "code",
   "execution_count": 1,
   "metadata": {},
   "outputs": [],
   "source": [
    "import datajoint as dj"
   ]
  },
  {
   "cell_type": "code",
   "execution_count": 2,
   "metadata": {},
   "outputs": [
    {
     "name": "stdout",
     "output_type": "stream",
     "text": [
      "Connecting root@127.0.0.1:3306\n"
     ]
    },
    {
     "data": {
      "text/plain": [
       "DataJoint connection (connected) root@127.0.0.1:3306"
      ]
     },
     "execution_count": 2,
     "metadata": {},
     "output_type": "execute_result"
    }
   ],
   "source": [
    "dj.conn()"
   ]
  },
  {
   "cell_type": "code",
   "execution_count": 3,
   "metadata": {},
   "outputs": [],
   "source": [
    "from pipeline import experiment, subject, intracellular, nwb_adapter, utilities"
   ]
  },
  {
   "cell_type": "code",
   "execution_count": 7,
   "metadata": {},
   "outputs": [
    {
     "data": {
      "image/svg+xml": [
       "<svg height=\"256pt\" viewBox=\"0.00 0.00 460.00 256.00\" width=\"460pt\" xmlns=\"http://www.w3.org/2000/svg\" xmlns:xlink=\"http://www.w3.org/1999/xlink\">\n",
       "<g class=\"graph\" id=\"graph0\" transform=\"scale(1 1) rotate(0) translate(4 252)\">\n",
       "<title>%3</title>\n",
       "<polygon fill=\"white\" points=\"-4,4 -4,-252 456,-252 456,4 -4,4\" stroke=\"none\"/>\n",
       "<!-- experiment.Session -->\n",
       "<g class=\"node\" id=\"node1\"><title>experiment.Session</title>\n",
       "<g id=\"a_node1\"><a xlink:title=\"→ subject.Subject\r",
       "session_time         \r",
       "------------------------------\r",
       "session_note=&quot;&quot;      \r",
       "nwb_file             \r",
       "INDEX (nwb_file)\r",
       "\">\n",
       "<polygon fill=\"#00ff00\" fill-opacity=\"0.188235\" points=\"452,-177 332,-177 332,-142 452,-142 452,-177\" stroke=\"#00ff00\" stroke-opacity=\"0.188235\"/>\n",
       "<text fill=\"darkgreen\" font-family=\"arial\" font-size=\"12.00\" text-anchor=\"start\" text-decoration=\"underline\" x=\"340\" y=\"-157.4\">experiment.Session</text>\n",
       "</a>\n",
       "</g>\n",
       "</g>\n",
       "<!-- intracellular.Cell -->\n",
       "<g class=\"node\" id=\"node4\"><title>intracellular.Cell</title>\n",
       "<g id=\"a_node4\"><a xlink:title=\"→ experiment.Session\r",
       "cell_id              \r",
       "------------------------------\r",
       "cell_type            \r",
       "→ intracellular.IntracellularElectrode\r",
       "\">\n",
       "<polygon fill=\"#00ff00\" fill-opacity=\"0.188235\" points=\"355,-106 257,-106 257,-71 355,-71 355,-106\" stroke=\"#00ff00\" stroke-opacity=\"0.188235\"/>\n",
       "<text fill=\"darkgreen\" font-family=\"arial\" font-size=\"12.00\" text-anchor=\"start\" text-decoration=\"underline\" x=\"265\" y=\"-86.4\">intracellular.Cell</text>\n",
       "</a>\n",
       "</g>\n",
       "</g>\n",
       "<!-- experiment.Session&#45;&gt;intracellular.Cell -->\n",
       "<g class=\"edge\" id=\"edge1\"><title>experiment.Session-&gt;intracellular.Cell</title>\n",
       "<path d=\"M371.182,-141.797C357.66,-130.949 340.11,-116.867 326.626,-106.049\" fill=\"none\" stroke=\"#000000\" stroke-opacity=\"0.250980\" stroke-width=\"0.75\"/>\n",
       "</g>\n",
       "<!-- intracellular.MembranePotential -->\n",
       "<g class=\"node\" id=\"node2\"><title>intracellular.MembranePotential</title>\n",
       "<g id=\"a_node2\"><a xlink:title=\"→ intracellular.Cell\r",
       "------------------------------\r",
       "nwb_patch_clamp      \r",
       "INDEX (nwb_patch_clamp)\r",
       "\">\n",
       "<ellipse cx=\"306\" cy=\"-17.5\" fill=\"#00007f\" fill-opacity=\"0.250980\" rx=\"112.5\" ry=\"17.5\" stroke=\"#00007f\" stroke-opacity=\"0.250980\"/>\n",
       "<text fill=\"#00007f\" font-family=\"arial\" font-size=\"12.00\" text-anchor=\"middle\" x=\"306\" y=\"-14.4\">intracellular.MembranePotential</text>\n",
       "</a>\n",
       "</g>\n",
       "</g>\n",
       "<!-- intracellular.IntracellularElectrode -->\n",
       "<g class=\"node\" id=\"node3\"><title>intracellular.IntracellularElectrode</title>\n",
       "<g id=\"a_node3\"><a xlink:title=\"→ intracellular.BrainLocation\r",
       "------------------------------\r",
       "→ intracellular.WholeCellDevice\r",
       "ic_electrode         \r",
       "\">\n",
       "<polygon fill=\"#00ff00\" fill-opacity=\"0.188235\" points=\"314,-177 128,-177 128,-142 314,-142 314,-177\" stroke=\"#00ff00\" stroke-opacity=\"0.188235\"/>\n",
       "<text fill=\"darkgreen\" font-family=\"arial\" font-size=\"12.00\" text-anchor=\"middle\" x=\"221\" y=\"-156.4\">intracellular.IntracellularElectrode</text>\n",
       "</a>\n",
       "</g>\n",
       "</g>\n",
       "<!-- intracellular.IntracellularElectrode&#45;&gt;intracellular.Cell -->\n",
       "<g class=\"edge\" id=\"edge2\"><title>intracellular.IntracellularElectrode-&gt;intracellular.Cell</title>\n",
       "<path d=\"M241.576,-141.797C254.94,-130.949 272.287,-116.867 285.613,-106.049\" fill=\"none\" stroke=\"#000000\" stroke-dasharray=\"5,2\" stroke-opacity=\"0.250980\" stroke-width=\"0.75\"/>\n",
       "</g>\n",
       "<!-- intracellular.Cell&#45;&gt;intracellular.MembranePotential -->\n",
       "<g class=\"edge\" id=\"edge3\"><title>intracellular.Cell-&gt;intracellular.MembranePotential</title>\n",
       "<path d=\"M306,-70.797C306,-59.9485 306,-45.8669 306,-35.0492\" fill=\"none\" stroke=\"#000000\" stroke-opacity=\"0.250980\" stroke-width=\"2\"/>\n",
       "</g>\n",
       "<!-- intracellular.WholeCellDevice -->\n",
       "<g class=\"node\" id=\"node5\"><title>intracellular.WholeCellDevice</title>\n",
       "<g id=\"a_node5\"><a xlink:title=\"device_name          \r",
       "------------------------------\r",
       "nwb_device           \r",
       "\">\n",
       "<polygon fill=\"#000000\" fill-opacity=\"0.125490\" points=\"142,-248 0,-248 0,-213 142,-213 142,-248\" stroke=\"none\"/>\n",
       "<text font-family=\"arial\" font-size=\"10.00\" text-anchor=\"start\" text-decoration=\"underline\" x=\"8\" y=\"-229\">intracellular.WholeCellDevice</text>\n",
       "</a>\n",
       "</g>\n",
       "</g>\n",
       "<!-- intracellular.WholeCellDevice&#45;&gt;intracellular.IntracellularElectrode -->\n",
       "<g class=\"edge\" id=\"edge4\"><title>intracellular.WholeCellDevice-&gt;intracellular.IntracellularElectrode</title>\n",
       "<path d=\"M106.929,-212.973C130.59,-202.088 161.45,-187.893 185.105,-177.012\" fill=\"none\" stroke=\"#000000\" stroke-dasharray=\"5,2\" stroke-opacity=\"0.250980\" stroke-width=\"0.75\"/>\n",
       "</g>\n",
       "<!-- subject.Subject -->\n",
       "<g class=\"node\" id=\"node6\"><title>subject.Subject</title>\n",
       "<g id=\"a_node6\"><a xlink:title=\"subject_id           \r",
       "------------------------------\r",
       "→ subject.Species\r",
       "→ subject.AnimalSource\r",
       "sex=&quot;U&quot;              \r",
       "date_of_birth=null   \r",
       "subject_description=null \r",
       "\">\n",
       "<polygon fill=\"#00ff00\" fill-opacity=\"0.188235\" points=\"439.5,-248 344.5,-248 344.5,-213 439.5,-213 439.5,-248\" stroke=\"#00ff00\" stroke-opacity=\"0.188235\"/>\n",
       "<text fill=\"darkgreen\" font-family=\"arial\" font-size=\"12.00\" text-anchor=\"start\" text-decoration=\"underline\" x=\"352.5\" y=\"-228.4\">subject.Subject</text>\n",
       "</a>\n",
       "</g>\n",
       "</g>\n",
       "<!-- subject.Subject&#45;&gt;experiment.Session -->\n",
       "<g class=\"edge\" id=\"edge5\"><title>subject.Subject-&gt;experiment.Session</title>\n",
       "<path d=\"M392,-212.797C392,-201.949 392,-187.867 392,-177.049\" fill=\"none\" stroke=\"#000000\" stroke-opacity=\"0.250980\" stroke-width=\"0.75\"/>\n",
       "</g>\n",
       "<!-- intracellular.BrainLocation -->\n",
       "<g class=\"node\" id=\"node7\"><title>intracellular.BrainLocation</title>\n",
       "<g id=\"a_node7\"><a xlink:title=\"brain_region         \r",
       "hemisphere           \r",
       "------------------------------\r",
       "coordinate_ref       \r",
       "coordinate_ap        \r",
       "coordinate_ml        \r",
       "coordinate_dv        \r",
       "\">\n",
       "<polygon fill=\"#00ff00\" fill-opacity=\"0.188235\" points=\"311.5,-248 160.5,-248 160.5,-213 311.5,-213 311.5,-248\" stroke=\"#00ff00\" stroke-opacity=\"0.188235\"/>\n",
       "<text fill=\"darkgreen\" font-family=\"arial\" font-size=\"12.00\" text-anchor=\"start\" text-decoration=\"underline\" x=\"168.5\" y=\"-228.4\">intracellular.BrainLocation</text>\n",
       "</a>\n",
       "</g>\n",
       "</g>\n",
       "<!-- intracellular.BrainLocation&#45;&gt;intracellular.IntracellularElectrode -->\n",
       "<g class=\"edge\" id=\"edge6\"><title>intracellular.BrainLocation-&gt;intracellular.IntracellularElectrode</title>\n",
       "<path d=\"M232.369,-212.797C230.011,-201.949 226.949,-187.867 224.598,-177.049\" fill=\"none\" stroke=\"#000000\" stroke-opacity=\"0.250980\" stroke-width=\"2\"/>\n",
       "</g>\n",
       "</g>\n",
       "</svg>"
      ],
      "text/plain": [
       "<datajoint.diagram.Diagram at 0x27cde8dcf28>"
      ]
     },
     "execution_count": 7,
     "metadata": {},
     "output_type": "execute_result"
    }
   ],
   "source": [
    "dj.Diagram(experiment.Session) - 1 + dj.Diagram(intracellular)"
   ]
  },
  {
   "cell_type": "code",
   "execution_count": 10,
   "metadata": {},
   "outputs": [],
   "source": [
    "erd = dj.Diagram(experiment.Session) - 1 + dj.Diagram(intracellular)"
   ]
  },
  {
   "cell_type": "code",
   "execution_count": 14,
   "metadata": {},
   "outputs": [
    {
     "data": {
      "image/svg+xml": [
       "<svg height=\"256pt\" viewBox=\"0.00 0.00 460.00 256.00\" width=\"460pt\" xmlns=\"http://www.w3.org/2000/svg\" xmlns:xlink=\"http://www.w3.org/1999/xlink\">\n",
       "<g class=\"graph\" id=\"graph0\" transform=\"scale(1 1) rotate(0) translate(4 252)\">\n",
       "<title>%3</title>\n",
       "<polygon fill=\"white\" points=\"-4,4 -4,-252 456,-252 456,4 -4,4\" stroke=\"none\"/>\n",
       "<!-- experiment.Session -->\n",
       "<g class=\"node\" id=\"node1\"><title>experiment.Session</title>\n",
       "<g id=\"a_node1\"><a xlink:title=\"→ subject.Subject\r",
       "session_time         \r",
       "------------------------------\r",
       "session_note=&quot;&quot;      \r",
       "nwb_file             \r",
       "INDEX (nwb_file)\r",
       "\">\n",
       "<polygon fill=\"#00ff00\" fill-opacity=\"0.188235\" points=\"452,-177 332,-177 332,-142 452,-142 452,-177\" stroke=\"#00ff00\" stroke-opacity=\"0.188235\"/>\n",
       "<text fill=\"darkgreen\" font-family=\"arial\" font-size=\"12.00\" text-anchor=\"start\" text-decoration=\"underline\" x=\"340\" y=\"-157.4\">experiment.Session</text>\n",
       "</a>\n",
       "</g>\n",
       "</g>\n",
       "<!-- intracellular.Cell -->\n",
       "<g class=\"node\" id=\"node4\"><title>intracellular.Cell</title>\n",
       "<g id=\"a_node4\"><a xlink:title=\"→ experiment.Session\r",
       "cell_id              \r",
       "------------------------------\r",
       "cell_type            \r",
       "→ intracellular.IntracellularElectrode\r",
       "\">\n",
       "<polygon fill=\"#00ff00\" fill-opacity=\"0.188235\" points=\"355,-106 257,-106 257,-71 355,-71 355,-106\" stroke=\"#00ff00\" stroke-opacity=\"0.188235\"/>\n",
       "<text fill=\"darkgreen\" font-family=\"arial\" font-size=\"12.00\" text-anchor=\"start\" text-decoration=\"underline\" x=\"265\" y=\"-86.4\">intracellular.Cell</text>\n",
       "</a>\n",
       "</g>\n",
       "</g>\n",
       "<!-- experiment.Session&#45;&gt;intracellular.Cell -->\n",
       "<g class=\"edge\" id=\"edge1\"><title>experiment.Session-&gt;intracellular.Cell</title>\n",
       "<path d=\"M371.182,-141.797C357.66,-130.949 340.11,-116.867 326.626,-106.049\" fill=\"none\" stroke=\"#000000\" stroke-opacity=\"0.250980\" stroke-width=\"0.75\"/>\n",
       "</g>\n",
       "<!-- intracellular.MembranePotential -->\n",
       "<g class=\"node\" id=\"node2\"><title>intracellular.MembranePotential</title>\n",
       "<g id=\"a_node2\"><a xlink:title=\"→ intracellular.Cell\r",
       "------------------------------\r",
       "nwb_patch_clamp      \r",
       "INDEX (nwb_patch_clamp)\r",
       "\">\n",
       "<ellipse cx=\"306\" cy=\"-17.5\" fill=\"#00007f\" fill-opacity=\"0.250980\" rx=\"112.5\" ry=\"17.5\" stroke=\"#00007f\" stroke-opacity=\"0.250980\"/>\n",
       "<text fill=\"#00007f\" font-family=\"arial\" font-size=\"12.00\" text-anchor=\"middle\" x=\"306\" y=\"-14.4\">intracellular.MembranePotential</text>\n",
       "</a>\n",
       "</g>\n",
       "</g>\n",
       "<!-- intracellular.IntracellularElectrode -->\n",
       "<g class=\"node\" id=\"node3\"><title>intracellular.IntracellularElectrode</title>\n",
       "<g id=\"a_node3\"><a xlink:title=\"→ intracellular.BrainLocation\r",
       "------------------------------\r",
       "→ intracellular.WholeCellDevice\r",
       "ic_electrode         \r",
       "\">\n",
       "<polygon fill=\"#00ff00\" fill-opacity=\"0.188235\" points=\"314,-177 128,-177 128,-142 314,-142 314,-177\" stroke=\"#00ff00\" stroke-opacity=\"0.188235\"/>\n",
       "<text fill=\"darkgreen\" font-family=\"arial\" font-size=\"12.00\" text-anchor=\"middle\" x=\"221\" y=\"-156.4\">intracellular.IntracellularElectrode</text>\n",
       "</a>\n",
       "</g>\n",
       "</g>\n",
       "<!-- intracellular.IntracellularElectrode&#45;&gt;intracellular.Cell -->\n",
       "<g class=\"edge\" id=\"edge2\"><title>intracellular.IntracellularElectrode-&gt;intracellular.Cell</title>\n",
       "<path d=\"M241.576,-141.797C254.94,-130.949 272.287,-116.867 285.613,-106.049\" fill=\"none\" stroke=\"#000000\" stroke-dasharray=\"5,2\" stroke-opacity=\"0.250980\" stroke-width=\"0.75\"/>\n",
       "</g>\n",
       "<!-- intracellular.Cell&#45;&gt;intracellular.MembranePotential -->\n",
       "<g class=\"edge\" id=\"edge3\"><title>intracellular.Cell-&gt;intracellular.MembranePotential</title>\n",
       "<path d=\"M306,-70.797C306,-59.9485 306,-45.8669 306,-35.0492\" fill=\"none\" stroke=\"#000000\" stroke-opacity=\"0.250980\" stroke-width=\"2\"/>\n",
       "</g>\n",
       "<!-- intracellular.WholeCellDevice -->\n",
       "<g class=\"node\" id=\"node5\"><title>intracellular.WholeCellDevice</title>\n",
       "<g id=\"a_node5\"><a xlink:title=\"device_name          \r",
       "------------------------------\r",
       "nwb_device           \r",
       "\">\n",
       "<polygon fill=\"#000000\" fill-opacity=\"0.125490\" points=\"142,-248 0,-248 0,-213 142,-213 142,-248\" stroke=\"none\"/>\n",
       "<text font-family=\"arial\" font-size=\"10.00\" text-anchor=\"start\" text-decoration=\"underline\" x=\"8\" y=\"-229\">intracellular.WholeCellDevice</text>\n",
       "</a>\n",
       "</g>\n",
       "</g>\n",
       "<!-- intracellular.WholeCellDevice&#45;&gt;intracellular.IntracellularElectrode -->\n",
       "<g class=\"edge\" id=\"edge4\"><title>intracellular.WholeCellDevice-&gt;intracellular.IntracellularElectrode</title>\n",
       "<path d=\"M106.929,-212.973C130.59,-202.088 161.45,-187.893 185.105,-177.012\" fill=\"none\" stroke=\"#000000\" stroke-dasharray=\"5,2\" stroke-opacity=\"0.250980\" stroke-width=\"0.75\"/>\n",
       "</g>\n",
       "<!-- subject.Subject -->\n",
       "<g class=\"node\" id=\"node6\"><title>subject.Subject</title>\n",
       "<g id=\"a_node6\"><a xlink:title=\"subject_id           \r",
       "------------------------------\r",
       "→ subject.Species\r",
       "→ subject.AnimalSource\r",
       "sex=&quot;U&quot;              \r",
       "date_of_birth=null   \r",
       "subject_description=null \r",
       "\">\n",
       "<polygon fill=\"#00ff00\" fill-opacity=\"0.188235\" points=\"439.5,-248 344.5,-248 344.5,-213 439.5,-213 439.5,-248\" stroke=\"#00ff00\" stroke-opacity=\"0.188235\"/>\n",
       "<text fill=\"darkgreen\" font-family=\"arial\" font-size=\"12.00\" text-anchor=\"start\" text-decoration=\"underline\" x=\"352.5\" y=\"-228.4\">subject.Subject</text>\n",
       "</a>\n",
       "</g>\n",
       "</g>\n",
       "<!-- subject.Subject&#45;&gt;experiment.Session -->\n",
       "<g class=\"edge\" id=\"edge5\"><title>subject.Subject-&gt;experiment.Session</title>\n",
       "<path d=\"M392,-212.797C392,-201.949 392,-187.867 392,-177.049\" fill=\"none\" stroke=\"#000000\" stroke-opacity=\"0.250980\" stroke-width=\"0.75\"/>\n",
       "</g>\n",
       "<!-- intracellular.BrainLocation -->\n",
       "<g class=\"node\" id=\"node7\"><title>intracellular.BrainLocation</title>\n",
       "<g id=\"a_node7\"><a xlink:title=\"brain_region         \r",
       "hemisphere           \r",
       "------------------------------\r",
       "coordinate_ref       \r",
       "coordinate_ap        \r",
       "coordinate_ml        \r",
       "coordinate_dv        \r",
       "\">\n",
       "<polygon fill=\"#00ff00\" fill-opacity=\"0.188235\" points=\"311.5,-248 160.5,-248 160.5,-213 311.5,-213 311.5,-248\" stroke=\"#00ff00\" stroke-opacity=\"0.188235\"/>\n",
       "<text fill=\"darkgreen\" font-family=\"arial\" font-size=\"12.00\" text-anchor=\"start\" text-decoration=\"underline\" x=\"168.5\" y=\"-228.4\">intracellular.BrainLocation</text>\n",
       "</a>\n",
       "</g>\n",
       "</g>\n",
       "<!-- intracellular.BrainLocation&#45;&gt;intracellular.IntracellularElectrode -->\n",
       "<g class=\"edge\" id=\"edge6\"><title>intracellular.BrainLocation-&gt;intracellular.IntracellularElectrode</title>\n",
       "<path d=\"M232.369,-212.797C230.011,-201.949 226.949,-187.867 224.598,-177.049\" fill=\"none\" stroke=\"#000000\" stroke-opacity=\"0.250980\" stroke-width=\"2\"/>\n",
       "</g>\n",
       "</g>\n",
       "</svg>"
      ],
      "text/plain": [
       "<datajoint.diagram.Diagram at 0x27cde8d52e8>"
      ]
     },
     "execution_count": 14,
     "metadata": {},
     "output_type": "execute_result"
    }
   ],
   "source": [
    "erd"
   ]
  },
  {
   "cell_type": "code",
   "execution_count": 18,
   "metadata": {},
   "outputs": [
    {
     "ename": "UnicodeEncodeError",
     "evalue": "'charmap' codec can't encode character '\\u2192' in position 452: character maps to <undefined>",
     "output_type": "error",
     "traceback": [
      "\u001b[1;31m---------------------------------------------------------------------------\u001b[0m",
      "\u001b[1;31mUnicodeEncodeError\u001b[0m                        Traceback (most recent call last)",
      "\u001b[1;32m<ipython-input-18-0c07fec52ca1>\u001b[0m in \u001b[0;36m<module>\u001b[1;34m()\u001b[0m\n\u001b[1;32m----> 1\u001b[1;33m \u001b[0merd\u001b[0m\u001b[1;33m.\u001b[0m\u001b[0msave\u001b[0m\u001b[1;33m(\u001b[0m\u001b[1;34m'erd.svg'\u001b[0m\u001b[1;33m)\u001b[0m\u001b[1;33m\u001b[0m\u001b[0m\n\u001b[0m",
      "\u001b[1;32mC:\\ProgramData\\Anaconda3\\lib\\site-packages\\datajoint\\diagram.py\u001b[0m in \u001b[0;36msave\u001b[1;34m(self, filename, format)\u001b[0m\n\u001b[0;32m    355\u001b[0m             \u001b[1;32melif\u001b[0m \u001b[0mformat\u001b[0m\u001b[1;33m.\u001b[0m\u001b[0mlower\u001b[0m\u001b[1;33m(\u001b[0m\u001b[1;33m)\u001b[0m \u001b[1;33m==\u001b[0m \u001b[1;34m'svg'\u001b[0m\u001b[1;33m:\u001b[0m\u001b[1;33m\u001b[0m\u001b[0m\n\u001b[0;32m    356\u001b[0m                 \u001b[1;32mwith\u001b[0m \u001b[0mopen\u001b[0m\u001b[1;33m(\u001b[0m\u001b[0mfilename\u001b[0m\u001b[1;33m,\u001b[0m \u001b[1;34m'w'\u001b[0m\u001b[1;33m)\u001b[0m \u001b[1;32mas\u001b[0m \u001b[0mf\u001b[0m\u001b[1;33m:\u001b[0m\u001b[1;33m\u001b[0m\u001b[0m\n\u001b[1;32m--> 357\u001b[1;33m                     \u001b[0mf\u001b[0m\u001b[1;33m.\u001b[0m\u001b[0mwrite\u001b[0m\u001b[1;33m(\u001b[0m\u001b[0mself\u001b[0m\u001b[1;33m.\u001b[0m\u001b[0mmake_svg\u001b[0m\u001b[1;33m(\u001b[0m\u001b[1;33m)\u001b[0m\u001b[1;33m.\u001b[0m\u001b[0mdata\u001b[0m\u001b[1;33m)\u001b[0m\u001b[1;33m\u001b[0m\u001b[0m\n\u001b[0m\u001b[0;32m    358\u001b[0m             \u001b[1;32melse\u001b[0m\u001b[1;33m:\u001b[0m\u001b[1;33m\u001b[0m\u001b[0m\n\u001b[0;32m    359\u001b[0m                 \u001b[1;32mraise\u001b[0m \u001b[0mDataJointError\u001b[0m\u001b[1;33m(\u001b[0m\u001b[1;34m'Unsupported file format'\u001b[0m\u001b[1;33m)\u001b[0m\u001b[1;33m\u001b[0m\u001b[0m\n",
      "\u001b[1;32mC:\\ProgramData\\Anaconda3\\lib\\encodings\\cp1252.py\u001b[0m in \u001b[0;36mencode\u001b[1;34m(self, input, final)\u001b[0m\n\u001b[0;32m     17\u001b[0m \u001b[1;32mclass\u001b[0m \u001b[0mIncrementalEncoder\u001b[0m\u001b[1;33m(\u001b[0m\u001b[0mcodecs\u001b[0m\u001b[1;33m.\u001b[0m\u001b[0mIncrementalEncoder\u001b[0m\u001b[1;33m)\u001b[0m\u001b[1;33m:\u001b[0m\u001b[1;33m\u001b[0m\u001b[0m\n\u001b[0;32m     18\u001b[0m     \u001b[1;32mdef\u001b[0m \u001b[0mencode\u001b[0m\u001b[1;33m(\u001b[0m\u001b[0mself\u001b[0m\u001b[1;33m,\u001b[0m \u001b[0minput\u001b[0m\u001b[1;33m,\u001b[0m \u001b[0mfinal\u001b[0m\u001b[1;33m=\u001b[0m\u001b[1;32mFalse\u001b[0m\u001b[1;33m)\u001b[0m\u001b[1;33m:\u001b[0m\u001b[1;33m\u001b[0m\u001b[0m\n\u001b[1;32m---> 19\u001b[1;33m         \u001b[1;32mreturn\u001b[0m \u001b[0mcodecs\u001b[0m\u001b[1;33m.\u001b[0m\u001b[0mcharmap_encode\u001b[0m\u001b[1;33m(\u001b[0m\u001b[0minput\u001b[0m\u001b[1;33m,\u001b[0m\u001b[0mself\u001b[0m\u001b[1;33m.\u001b[0m\u001b[0merrors\u001b[0m\u001b[1;33m,\u001b[0m\u001b[0mencoding_table\u001b[0m\u001b[1;33m)\u001b[0m\u001b[1;33m[\u001b[0m\u001b[1;36m0\u001b[0m\u001b[1;33m]\u001b[0m\u001b[1;33m\u001b[0m\u001b[0m\n\u001b[0m\u001b[0;32m     20\u001b[0m \u001b[1;33m\u001b[0m\u001b[0m\n\u001b[0;32m     21\u001b[0m \u001b[1;32mclass\u001b[0m \u001b[0mIncrementalDecoder\u001b[0m\u001b[1;33m(\u001b[0m\u001b[0mcodecs\u001b[0m\u001b[1;33m.\u001b[0m\u001b[0mIncrementalDecoder\u001b[0m\u001b[1;33m)\u001b[0m\u001b[1;33m:\u001b[0m\u001b[1;33m\u001b[0m\u001b[0m\n",
      "\u001b[1;31mUnicodeEncodeError\u001b[0m: 'charmap' codec can't encode character '\\u2192' in position 452: character maps to <undefined>"
     ]
    }
   ],
   "source": [
    "erd.save('erd.svg')"
   ]
  },
  {
   "cell_type": "code",
   "execution_count": null,
   "metadata": {},
   "outputs": [],
   "source": []
  }
 ],
 "metadata": {
  "kernelspec": {
   "display_name": "Python 3",
   "language": "python",
   "name": "python3"
  },
  "language_info": {
   "codemirror_mode": {
    "name": "ipython",
    "version": 3
   },
   "file_extension": ".py",
   "mimetype": "text/x-python",
   "name": "python",
   "nbconvert_exporter": "python",
   "pygments_lexer": "ipython3",
   "version": "3.7.0"
  }
 },
 "nbformat": 4,
 "nbformat_minor": 2
}
