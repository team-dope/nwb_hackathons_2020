{
 "cells": [
  {
   "cell_type": "code",
   "execution_count": 23,
   "metadata": {},
   "outputs": [],
   "source": [
    "import datajoint as dj\n",
    "import numpy as np\n",
    "import pathlib\n",
    "import re\n",
    "\n",
    "import pynwb\n",
    "from pynwb import NWBHDF5IO\n",
    "\n",
    "from pipeline import experiment, intracellular, subject\n",
    "from pipeline.nwb_adapter import nwb_file"
   ]
  },
  {
   "cell_type": "markdown",
   "metadata": {},
   "source": [
    "## Define a generic \"fetch_nwb\" method that returns nwb object given object_id"
   ]
  },
  {
   "cell_type": "code",
   "execution_count": 27,
   "metadata": {},
   "outputs": [],
   "source": [
    "def fetch_nwb(relation, nwb_orig, *attrs, **kwargs):\n",
    "    \"\"\"\n",
    "    :param relation: a DJ relation to call fetch on\n",
    "    :param nwb_orig: tuple of (table, attr) to get\n",
    "    :param attrs: attrs from normal fetch()\n",
    "    :param kwargs: kwargs from normal fetch()\n",
    "    :return: fetched list of dict\n",
    "    \"\"\"\n",
    "    kwargs['as_dict'] = True  # force return as dictionary\n",
    "    tbl, attr_name = nwb_orig\n",
    "    \n",
    "    if not attrs:\n",
    "        attrs = relation.heading.names\n",
    "\n",
    "    rec_dicts = (relation * tbl.proj(nwb2load_filepath=attr_name)).fetch(*attrs, 'nwb2load_filepath', **kwargs)\n",
    "    \n",
    "    if not rec_dicts or not np.any(['object_id' in key for key in rec_dicts[0]]):\n",
    "        return rec_dicts\n",
    "    \n",
    "    ret = []\n",
    "    for rec_dict in rec_dicts:\n",
    "        io = pynwb.NWBHDF5IO(rec_dict.pop('nwb2load_filepath'), mode='r')\n",
    "        nwbf = io.read()\n",
    "        nwb_objs = {re.sub('(_?)object_id', '', id_attr): nwbf.objects[rec_dict[id_attr]]\n",
    "                    for id_attr in attrs if 'object_id' in id_attr}\n",
    "        ret.append({**rec_dict, **nwb_objs})\n",
    "    return ret"
   ]
  },
  {
   "cell_type": "markdown",
   "metadata": {},
   "source": [
    "## Usage 1 - Refering to filepath in `self`"
   ]
  },
  {
   "cell_type": "code",
   "execution_count": 47,
   "metadata": {},
   "outputs": [],
   "source": [
    "schema = experiment.schema\n",
    "\n",
    "@schema\n",
    "class NWBSession(dj.Manual):\n",
    "    definition = \"\"\"\n",
    "     -> subject.Subject\n",
    "    session_time         : datetime                     # session time\n",
    "    ---\n",
    "    nwb_fp: filepath@nwb_store\n",
    "    nwb_object_id: varchar(36)\n",
    "    \"\"\"\n",
    "    \n",
    "    def load(self):\n",
    "        for key in (experiment.Session - self).fetch('KEY'):\n",
    "            nwb = (experiment.Session & key).fetch1('nwb_file')\n",
    "            print(nwb.container_source)\n",
    "            self.insert1({**key, \n",
    "                          'nwb_fp': pathlib.Path(nwb.container_source),\n",
    "                          'nwb_object_id': nwb.object_id})\n",
    "            \n",
    "    def fetch_nwb(self, *attrs, **kwargs):\n",
    "        return fetch_nwb(self, (self, 'nwb_fp'), *attrs, **kwargs)"
   ]
  },
  {
   "cell_type": "code",
   "execution_count": 48,
   "metadata": {},
   "outputs": [],
   "source": [
    "NWBSession().load()"
   ]
  },
  {
   "cell_type": "code",
   "execution_count": 49,
   "metadata": {},
   "outputs": [
    {
     "data": {
      "text/plain": [
       "[{'subject_id': 'anm300476',\n",
       "  'session_time': datetime.datetime(2017, 5, 20, 18, 28, 59),\n",
       "  'nwb_fp': 'C:\\\\Users\\\\thinh\\\\Documents\\\\TN-Vathes\\\\NWB\\\\nwb_hackathons_2020\\\\nwb_store\\\\session\\\\anm300476_170520_182859.nwb',\n",
       "  'nwb_object_id': '2aa21234-7536-4125-a2aa-da0161fa7f6b',\n",
       "  'nwb': \n",
       "  root <class 'pynwb.file.NWBFile'>\n",
       "  Fields:\n",
       "    experimenter: ['Hidehiko Inagaki']\n",
       "    file_create_date: [datetime.datetime(2020, 5, 11, 13, 50, 49, 394621, tzinfo=tzoffset(None, -18000))]\n",
       "    identifier: anm300476_170520_182859\n",
       "    session_description: ALM whole cell recording during M1 photoinhibition\n",
       "    session_start_time: 2017-05-20 18:28:59-05:00\n",
       "    subject: subject <class 'pynwb.file.Subject'>\n",
       "    timestamps_reference_time: 2017-05-20 18:28:59-05:00}]"
      ]
     },
     "execution_count": 49,
     "metadata": {},
     "output_type": "execute_result"
    }
   ],
   "source": [
    "NWBSession().fetch_nwb(limit=1)"
   ]
  },
  {
   "cell_type": "markdown",
   "metadata": {},
   "source": [
    "Value of the `nwb`-key is fetched back as an NWB object with the corresponding `object_id` - In the case the whole NWBFile"
   ]
  },
  {
   "cell_type": "markdown",
   "metadata": {},
   "source": [
    "## Usage 2 - Refering to filepath from upstream parent table"
   ]
  },
  {
   "cell_type": "code",
   "execution_count": 54,
   "metadata": {},
   "outputs": [],
   "source": [
    "schema = experiment.schema\n",
    "\n",
    "@schema\n",
    "class NWBSubject(dj.Imported):\n",
    "    definition = \"\"\"\n",
    "     -> NWBSession\n",
    "    ---\n",
    "    subject_object_id: varchar(36)\n",
    "    \"\"\"\n",
    "    \n",
    "    def make(self, key):\n",
    "        io = pynwb.NWBHDF5IO((NWBSession & key).fetch1('nwb_fp'), mode='r')\n",
    "        nwbf = io.read()\n",
    "        self.insert1({**key, 'subject_object_id': nwbf.subject.object_id})\n",
    "            \n",
    "    def fetch_nwb(self, *attrs, **kwargs):\n",
    "        return fetch_nwb(self, (NWBSession, 'nwb_fp'), *attrs, **kwargs)"
   ]
  },
  {
   "cell_type": "code",
   "execution_count": 55,
   "metadata": {},
   "outputs": [],
   "source": [
    "NWBSubject.populate()"
   ]
  },
  {
   "cell_type": "code",
   "execution_count": 57,
   "metadata": {},
   "outputs": [
    {
     "data": {
      "text/plain": [
       "[{'subject_id': 'anm300476',\n",
       "  'session_time': datetime.datetime(2017, 5, 20, 18, 28, 59),\n",
       "  'subject_object_id': '00e9e60c-583b-4729-901a-2b27bd19e974',\n",
       "  'subject': \n",
       "  subject <class 'pynwb.file.Subject'>\n",
       "  Fields:\n",
       "    date_of_birth: 2015-03-28 00:00:00-05:00\n",
       "    genotype: PV-Cre x Ai32\n",
       "    sex: M\n",
       "    species: Mus musculus\n",
       "    subject_id: anm300476}]"
      ]
     },
     "execution_count": 57,
     "metadata": {},
     "output_type": "execute_result"
    }
   ],
   "source": [
    "NWBSubject().fetch_nwb(limit=1)"
   ]
  },
  {
   "cell_type": "markdown",
   "metadata": {},
   "source": [
    "Value of the `nwb`-key is fetched back as an NWB object with the corresponding `object_id` - In the case the `.subject`"
   ]
  },
  {
   "cell_type": "code",
   "execution_count": null,
   "metadata": {},
   "outputs": [],
   "source": []
  }
 ],
 "metadata": {
  "kernelspec": {
   "display_name": "Python 3",
   "language": "python",
   "name": "python3"
  },
  "language_info": {
   "codemirror_mode": {
    "name": "ipython",
    "version": 3
   },
   "file_extension": ".py",
   "mimetype": "text/x-python",
   "name": "python",
   "nbconvert_exporter": "python",
   "pygments_lexer": "ipython3",
   "version": "3.7.0"
  }
 },
 "nbformat": 4,
 "nbformat_minor": 2
}
